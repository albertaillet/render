{
  "cells": [
    {
      "attachments": {},
      "cell_type": "markdown",
      "metadata": {
        "colab_type": "text",
        "id": "view-in-github"
      },
      "source": [
        "<a href=\"https://colab.research.google.com/github/albertaillet/render/blob/main/colab.ipynb\" target=\"_parent\"><img src=\"https://colab.research.google.com/assets/colab-badge.svg\" alt=\"Open In Colab\"/></a>"
      ]
    },
    {
      "cell_type": "code",
      "execution_count": null,
      "metadata": {
        "id": "YlMkOj5lGjSb"
      },
      "outputs": [],
      "source": [
        "!git clone --quiet https://github.com/albertaillet/render/\n",
        "%cd /content/render"
      ]
    },
    {
      "cell_type": "code",
      "execution_count": null,
      "metadata": {
        "id": "yzTWe6ScGjSf"
      },
      "outputs": [],
      "source": [
        "!pip install --quiet --requirement requirements-colab.txt"
      ]
    },
    {
      "cell_type": "code",
      "execution_count": null,
      "metadata": {
        "id": "nh-XyIq5ESh4"
      },
      "outputs": [],
      "source": [
        "from jax.lib import xla_bridge\n",
        "assert xla_bridge.get_backend().platform == 'gpu', 'Change runtime type to GPU'"
      ]
    },
    {
      "cell_type": "code",
      "execution_count": null,
      "metadata": {
        "id": "s0g-6wW6GjSg"
      },
      "outputs": [],
      "source": [
        "from dash import Dash\n",
        "from setup import setup\n",
        "from dash_bootstrap_components import themes\n",
        "\n",
        "\n",
        "app = Dash(__name__, external_stylesheets=[themes.DARKLY])\n",
        "setup(app)\n",
        "app.run_server(debug=True)"
      ]
    }
  ],
  "metadata": {
    "accelerator": "GPU",
    "colab": {
      "include_colab_link": true,
      "provenance": []
    },
    "gpuClass": "standard",
    "kernelspec": {
      "display_name": "render-env",
      "language": "python",
      "name": "python3"
    },
    "language_info": {
      "name": "python",
      "version": "3.10.6"
    },
    "orig_nbformat": 4,
    "vscode": {
      "interpreter": {
        "hash": "70ad27968be4c8238fde5e9e66146075204552cc58b266ef991ee4cec71ef4b6"
      }
    }
  },
  "nbformat": 4,
  "nbformat_minor": 0
}
