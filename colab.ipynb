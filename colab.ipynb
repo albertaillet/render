{
  "cells": [
    {
      "attachments": {},
      "cell_type": "markdown",
      "metadata": {
        "colab_type": "text",
        "id": "view-in-github"
      },
      "source": [
        "<a href=\"https://colab.research.google.com/github/albertaillet/render/blob/main/colab.ipynb\" target=\"_parent\"><img src=\"https://colab.research.google.com/assets/colab-badge.svg\" alt=\"Open In Colab\"/></a>"
      ]
    },
    {
      "cell_type": "code",
      "execution_count": null,
      "metadata": {
        "id": "YlMkOj5lGjSb"
      },
      "outputs": [],
      "source": [
        "!git clone https://github.com/albertaillet/render/\n",
        "%cd render"
      ]
    },
    {
      "cell_type": "code",
      "execution_count": null,
      "metadata": {
        "id": "yzTWe6ScGjSf"
      },
      "outputs": [],
      "source": [
        "!pip install -r requirements-colab.txt"
      ]
    },
    {
      "cell_type": "code",
      "execution_count": null,
      "metadata": {
        "id": "s0g-6wW6GjSg"
      },
      "outputs": [],
      "source": [
        "from jupyter_dash import JupyterDash\n",
        "from dash_bootstrap_components import themes\n",
        "from app import setup\n",
        "\n",
        "app = JupyterDash(__name__, external_stylesheets=[themes.DARKLY])\n",
        "setup(app)\n",
        "app.run_server(debug=True)"
      ]
    }
  ],
  "metadata": {
    "accelerator": "GPU",
    "colab": {
      "include_colab_link": true,
      "provenance": []
    },
    "gpuClass": "standard",
    "kernelspec": {
      "display_name": "render-env",
      "language": "python",
      "name": "python3"
    },
    "language_info": {
      "name": "python",
      "version": "3.10.6"
    },
    "orig_nbformat": 4,
    "vscode": {
      "interpreter": {
        "hash": "70ad27968be4c8238fde5e9e66146075204552cc58b266ef991ee4cec71ef4b6"
      }
    }
  },
  "nbformat": 4,
  "nbformat_minor": 0
}
