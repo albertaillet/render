{
  "cells": [
    {
      "cell_type": "markdown",
      "metadata": {
        "id": "view-in-github",
        "colab_type": "text"
      },
      "source": [
        "<a href=\"https://colab.research.google.com/github/albertaillet/render/blob/main/notebooks/colab.ipynb\" target=\"_parent\"><img src=\"https://colab.research.google.com/assets/colab-badge.svg\" alt=\"Open In Colab\"/></a>"
      ]
    },
    {
      "cell_type": "code",
      "execution_count": null,
      "metadata": {
        "id": "YlMkOj5lGjSb"
      },
      "outputs": [],
      "source": [
        "!git clone --quiet https://github.com/albertaillet/render/ --depth 1"
      ]
    },
    {
      "cell_type": "code",
      "execution_count": null,
      "metadata": {
        "id": "yzTWe6ScGjSf"
      },
      "outputs": [],
      "source": [
        "%cd /content/render\n",
        "%pip install --quiet --requirement requirements/requirements-colab.txt"
      ]
    },
    {
      "cell_type": "code",
      "execution_count": null,
      "metadata": {
        "id": "nh-XyIq5ESh4"
      },
      "outputs": [],
      "source": [
        "from jax.lib import xla_bridge\n",
        "assert xla_bridge.get_backend().platform == 'gpu', 'Change runtime type to GPU'"
      ]
    },
    {
      "cell_type": "code",
      "execution_count": null,
      "metadata": {
        "id": "s0g-6wW6GjSg"
      },
      "outputs": [],
      "source": [
        "from dash import Dash\n",
        "from setup import setup\n",
        "\n",
        "\n",
        "app = Dash(__name__)\n",
        "setup(app)\n",
        "app.run_server(debug=True)"
      ]
    },
    {
      "cell_type": "code",
      "source": [],
      "metadata": {
        "id": "Cg7Rw04wxw1G"
      },
      "execution_count": null,
      "outputs": []
    }
  ],
  "metadata": {
    "accelerator": "GPU",
    "colab": {
      "provenance": [],
      "include_colab_link": true
    },
    "gpuClass": "standard",
    "kernelspec": {
      "display_name": "render-env",
      "language": "python",
      "name": "python3"
    },
    "language_info": {
      "name": "python",
      "version": "3.10.6"
    },
    "orig_nbformat": 4,
    "vscode": {
      "interpreter": {
        "hash": "70ad27968be4c8238fde5e9e66146075204552cc58b266ef991ee4cec71ef4b6"
      }
    }
  },
  "nbformat": 4,
  "nbformat_minor": 0
}